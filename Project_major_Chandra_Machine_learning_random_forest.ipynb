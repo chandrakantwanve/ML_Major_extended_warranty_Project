{
 "cells": [
  {
   "cell_type": "code",
   "execution_count": 1,
   "id": "a88e4056",
   "metadata": {},
   "outputs": [],
   "source": [
    "import numpy as np\n",
    "import pandas as pd\n",
    "import seaborn as sns\n",
    "import matplotlib.pyplot as plt"
   ]
  },
  {
   "cell_type": "code",
   "execution_count": 2,
   "id": "8aed9624",
   "metadata": {},
   "outputs": [],
   "source": [
    "dealers=pd.read_excel(\"C:\\\\Users\\\\INTEGRAL COMPUTER\\\\OneDrive\\\\Desktop\\\\data science\\\\ML\\\\EW_Project\\\\Dataset.xlsx\",sheet_name=\"Dealers\")"
   ]
  },
  {
   "cell_type": "code",
   "execution_count": 3,
   "id": "d388602d",
   "metadata": {},
   "outputs": [],
   "source": [
    "customers=pd.read_excel(\"C:\\\\Users\\\\INTEGRAL COMPUTER\\\\OneDrive\\\\Desktop\\\\data science\\\\ML\\\\EW_Project\\\\Dataset.xlsx\",sheet_name=\"Customers\")"
   ]
  },
  {
   "cell_type": "code",
   "execution_count": 4,
   "id": "05351820",
   "metadata": {},
   "outputs": [],
   "source": [
    "claims=pd.read_excel(\"C:\\\\Users\\\\INTEGRAL COMPUTER\\\\OneDrive\\\\Desktop\\\\data science\\\\ML\\\\EW_Project\\\\Dataset.xlsx\",sheet_name=\"Claims\")"
   ]
  },
  {
   "cell_type": "code",
   "execution_count": 5,
   "id": "16aab217",
   "metadata": {},
   "outputs": [],
   "source": [
    "parts=pd.read_excel(\"C:\\\\Users\\\\INTEGRAL COMPUTER\\\\OneDrive\\\\Desktop\\\\data science\\\\ML\\\\EW_Project\\\\Dataset.xlsx\",sheet_name=\"Parts\")"
   ]
  },
  {
   "cell_type": "code",
   "execution_count": 6,
   "id": "b3abea62",
   "metadata": {},
   "outputs": [],
   "source": [
    "transactions=pd.read_excel(\"C:\\\\Users\\\\INTEGRAL COMPUTER\\\\OneDrive\\\\Desktop\\\\data science\\\\ML\\\\EW_Project\\\\Dataset.xlsx\",sheet_name=\"Transactions\")"
   ]
  },
  {
   "cell_type": "code",
   "execution_count": 7,
   "id": "f16670f1",
   "metadata": {},
   "outputs": [],
   "source": [
    "vendors=pd.read_excel(\"C:\\\\Users\\\\INTEGRAL COMPUTER\\\\OneDrive\\\\Desktop\\\\data science\\\\ML\\\\EW_Project\\\\Dataset.xlsx\",sheet_name=\"Vendors\")"
   ]
  },
  {
   "cell_type": "code",
   "execution_count": 8,
   "id": "62c3754d",
   "metadata": {},
   "outputs": [
    {
     "data": {
      "text/html": [
       "<div>\n",
       "<style scoped>\n",
       "    .dataframe tbody tr th:only-of-type {\n",
       "        vertical-align: middle;\n",
       "    }\n",
       "\n",
       "    .dataframe tbody tr th {\n",
       "        vertical-align: top;\n",
       "    }\n",
       "\n",
       "    .dataframe thead th {\n",
       "        text-align: right;\n",
       "    }\n",
       "</style>\n",
       "<table border=\"1\" class=\"dataframe\">\n",
       "  <thead>\n",
       "    <tr style=\"text-align: right;\">\n",
       "      <th></th>\n",
       "      <th>Dealer_ID</th>\n",
       "      <th>Dealer_Name</th>\n",
       "      <th>Dealer_Country</th>\n",
       "      <th>State</th>\n",
       "      <th>City</th>\n",
       "      <th>ZIpCode</th>\n",
       "    </tr>\n",
       "  </thead>\n",
       "  <tbody>\n",
       "    <tr>\n",
       "      <th>0</th>\n",
       "      <td>1.0</td>\n",
       "      <td>Kenneth Schmitt</td>\n",
       "      <td>india</td>\n",
       "      <td>Goa</td>\n",
       "      <td>Panji</td>\n",
       "      <td>400001.0</td>\n",
       "    </tr>\n",
       "    <tr>\n",
       "      <th>1</th>\n",
       "      <td>2.0</td>\n",
       "      <td>Owen Mclaughlin</td>\n",
       "      <td>india</td>\n",
       "      <td>Delhi</td>\n",
       "      <td>Naoida</td>\n",
       "      <td>400002.0</td>\n",
       "    </tr>\n",
       "    <tr>\n",
       "      <th>2</th>\n",
       "      <td>3.0</td>\n",
       "      <td>Donald Repinski</td>\n",
       "      <td>india</td>\n",
       "      <td>Karnataka</td>\n",
       "      <td>Bangalore</td>\n",
       "      <td>400003.0</td>\n",
       "    </tr>\n",
       "    <tr>\n",
       "      <th>3</th>\n",
       "      <td>4.0</td>\n",
       "      <td>Rachel Oszust</td>\n",
       "      <td>india</td>\n",
       "      <td>Gujrat</td>\n",
       "      <td>Ahemdabad</td>\n",
       "      <td>400004.0</td>\n",
       "    </tr>\n",
       "    <tr>\n",
       "      <th>4</th>\n",
       "      <td>5.0</td>\n",
       "      <td>Lynn Knapp</td>\n",
       "      <td>india</td>\n",
       "      <td>Orrisa</td>\n",
       "      <td>Cuttack</td>\n",
       "      <td>400005.0</td>\n",
       "    </tr>\n",
       "  </tbody>\n",
       "</table>\n",
       "</div>"
      ],
      "text/plain": [
       "   Dealer_ID      Dealer_Name Dealer_Country      State       City   ZIpCode\n",
       "0        1.0  Kenneth Schmitt          india        Goa      Panji  400001.0\n",
       "1        2.0  Owen Mclaughlin          india      Delhi     Naoida  400002.0\n",
       "2        3.0  Donald Repinski          india  Karnataka  Bangalore  400003.0\n",
       "3        4.0    Rachel Oszust          india     Gujrat  Ahemdabad  400004.0\n",
       "4        5.0       Lynn Knapp          india     Orrisa    Cuttack  400005.0"
      ]
     },
     "execution_count": 8,
     "metadata": {},
     "output_type": "execute_result"
    }
   ],
   "source": [
    "dealers.head()"
   ]
  },
  {
   "cell_type": "code",
   "execution_count": 9,
   "id": "c7f6e80a",
   "metadata": {},
   "outputs": [
    {
     "data": {
      "text/html": [
       "<div>\n",
       "<style scoped>\n",
       "    .dataframe tbody tr th:only-of-type {\n",
       "        vertical-align: middle;\n",
       "    }\n",
       "\n",
       "    .dataframe tbody tr th {\n",
       "        vertical-align: top;\n",
       "    }\n",
       "\n",
       "    .dataframe thead th {\n",
       "        text-align: right;\n",
       "    }\n",
       "</style>\n",
       "<table border=\"1\" class=\"dataframe\">\n",
       "  <thead>\n",
       "    <tr style=\"text-align: right;\">\n",
       "      <th></th>\n",
       "      <th>Cust_ID</th>\n",
       "      <th>Cust_Name</th>\n",
       "      <th>Dealer_ID</th>\n",
       "      <th>Country</th>\n",
       "      <th>State</th>\n",
       "      <th>City</th>\n",
       "      <th>ZipCode</th>\n",
       "    </tr>\n",
       "  </thead>\n",
       "  <tbody>\n",
       "    <tr>\n",
       "      <th>0</th>\n",
       "      <td>101.0</td>\n",
       "      <td>pushpak</td>\n",
       "      <td>1.0</td>\n",
       "      <td>ind</td>\n",
       "      <td>goa</td>\n",
       "      <td>panaji</td>\n",
       "      <td>402201.0</td>\n",
       "    </tr>\n",
       "    <tr>\n",
       "      <th>1</th>\n",
       "      <td>102.0</td>\n",
       "      <td>raj</td>\n",
       "      <td>3.0</td>\n",
       "      <td>ind</td>\n",
       "      <td>karnataka</td>\n",
       "      <td>banglore</td>\n",
       "      <td>403315.0</td>\n",
       "    </tr>\n",
       "    <tr>\n",
       "      <th>2</th>\n",
       "      <td>103.0</td>\n",
       "      <td>ranbir</td>\n",
       "      <td>4.0</td>\n",
       "      <td>ind</td>\n",
       "      <td>gujrat</td>\n",
       "      <td>ahemadabad</td>\n",
       "      <td>326665.0</td>\n",
       "    </tr>\n",
       "    <tr>\n",
       "      <th>3</th>\n",
       "      <td>104.0</td>\n",
       "      <td>reyansh</td>\n",
       "      <td>5.0</td>\n",
       "      <td>ind</td>\n",
       "      <td>orrisa</td>\n",
       "      <td>cuttack</td>\n",
       "      <td>543211.0</td>\n",
       "    </tr>\n",
       "    <tr>\n",
       "      <th>4</th>\n",
       "      <td>105.0</td>\n",
       "      <td>raunak</td>\n",
       "      <td>2.0</td>\n",
       "      <td>ind</td>\n",
       "      <td>delhi</td>\n",
       "      <td>noida</td>\n",
       "      <td>426232.0</td>\n",
       "    </tr>\n",
       "  </tbody>\n",
       "</table>\n",
       "</div>"
      ],
      "text/plain": [
       "   Cust_ID Cust_Name  Dealer_ID Country      State        City   ZipCode\n",
       "0    101.0   pushpak        1.0     ind        goa      panaji  402201.0\n",
       "1    102.0       raj        3.0     ind  karnataka    banglore  403315.0\n",
       "2    103.0    ranbir        4.0     ind     gujrat  ahemadabad  326665.0\n",
       "3    104.0   reyansh        5.0     ind     orrisa     cuttack  543211.0\n",
       "4    105.0    raunak        2.0     ind      delhi       noida  426232.0"
      ]
     },
     "execution_count": 9,
     "metadata": {},
     "output_type": "execute_result"
    }
   ],
   "source": [
    "customers.head()"
   ]
  },
  {
   "cell_type": "code",
   "execution_count": 10,
   "id": "42e334eb",
   "metadata": {},
   "outputs": [
    {
     "data": {
      "text/html": [
       "<div>\n",
       "<style scoped>\n",
       "    .dataframe tbody tr th:only-of-type {\n",
       "        vertical-align: middle;\n",
       "    }\n",
       "\n",
       "    .dataframe tbody tr th {\n",
       "        vertical-align: top;\n",
       "    }\n",
       "\n",
       "    .dataframe thead th {\n",
       "        text-align: right;\n",
       "    }\n",
       "</style>\n",
       "<table border=\"1\" class=\"dataframe\">\n",
       "  <thead>\n",
       "    <tr style=\"text-align: right;\">\n",
       "      <th></th>\n",
       "      <th>claim_id</th>\n",
       "      <th>claim_date</th>\n",
       "      <th>claim_amount</th>\n",
       "      <th>Dealer_ID</th>\n",
       "      <th>Cust_ID</th>\n",
       "      <th>Part_ID</th>\n",
       "      <th>Repair_or_Replace</th>\n",
       "    </tr>\n",
       "  </thead>\n",
       "  <tbody>\n",
       "    <tr>\n",
       "      <th>0</th>\n",
       "      <td>1.0</td>\n",
       "      <td>2020-04-01</td>\n",
       "      <td>36000.0</td>\n",
       "      <td>5.0</td>\n",
       "      <td>104.0</td>\n",
       "      <td>901.0</td>\n",
       "      <td>rpr</td>\n",
       "    </tr>\n",
       "    <tr>\n",
       "      <th>1</th>\n",
       "      <td>2.0</td>\n",
       "      <td>2020-04-01</td>\n",
       "      <td>42000.0</td>\n",
       "      <td>6.0</td>\n",
       "      <td>106.0</td>\n",
       "      <td>902.0</td>\n",
       "      <td>rplc</td>\n",
       "    </tr>\n",
       "    <tr>\n",
       "      <th>2</th>\n",
       "      <td>3.0</td>\n",
       "      <td>2020-04-01</td>\n",
       "      <td>45000.0</td>\n",
       "      <td>4.0</td>\n",
       "      <td>103.0</td>\n",
       "      <td>903.0</td>\n",
       "      <td>rpr</td>\n",
       "    </tr>\n",
       "    <tr>\n",
       "      <th>3</th>\n",
       "      <td>4.0</td>\n",
       "      <td>2020-04-01</td>\n",
       "      <td>56000.0</td>\n",
       "      <td>3.0</td>\n",
       "      <td>102.0</td>\n",
       "      <td>904.0</td>\n",
       "      <td>rplc</td>\n",
       "    </tr>\n",
       "    <tr>\n",
       "      <th>4</th>\n",
       "      <td>5.0</td>\n",
       "      <td>2020-04-01</td>\n",
       "      <td>39000.0</td>\n",
       "      <td>2.0</td>\n",
       "      <td>105.0</td>\n",
       "      <td>905.0</td>\n",
       "      <td>rpr</td>\n",
       "    </tr>\n",
       "  </tbody>\n",
       "</table>\n",
       "</div>"
      ],
      "text/plain": [
       "   claim_id claim_date  claim_amount  Dealer_ID  Cust_ID  Part_ID  \\\n",
       "0       1.0 2020-04-01       36000.0        5.0    104.0    901.0   \n",
       "1       2.0 2020-04-01       42000.0        6.0    106.0    902.0   \n",
       "2       3.0 2020-04-01       45000.0        4.0    103.0    903.0   \n",
       "3       4.0 2020-04-01       56000.0        3.0    102.0    904.0   \n",
       "4       5.0 2020-04-01       39000.0        2.0    105.0    905.0   \n",
       "\n",
       "  Repair_or_Replace  \n",
       "0               rpr  \n",
       "1              rplc  \n",
       "2               rpr  \n",
       "3              rplc  \n",
       "4               rpr  "
      ]
     },
     "execution_count": 10,
     "metadata": {},
     "output_type": "execute_result"
    }
   ],
   "source": [
    "claims.head()"
   ]
  },
  {
   "cell_type": "code",
   "execution_count": 11,
   "id": "83b8157c",
   "metadata": {},
   "outputs": [
    {
     "data": {
      "text/html": [
       "<div>\n",
       "<style scoped>\n",
       "    .dataframe tbody tr th:only-of-type {\n",
       "        vertical-align: middle;\n",
       "    }\n",
       "\n",
       "    .dataframe tbody tr th {\n",
       "        vertical-align: top;\n",
       "    }\n",
       "\n",
       "    .dataframe thead th {\n",
       "        text-align: right;\n",
       "    }\n",
       "</style>\n",
       "<table border=\"1\" class=\"dataframe\">\n",
       "  <thead>\n",
       "    <tr style=\"text-align: right;\">\n",
       "      <th></th>\n",
       "      <th>Part_ID</th>\n",
       "      <th>Part_Name</th>\n",
       "      <th>Manufacturer_ID</th>\n",
       "      <th>Manf_Date</th>\n",
       "    </tr>\n",
       "  </thead>\n",
       "  <tbody>\n",
       "    <tr>\n",
       "      <th>0</th>\n",
       "      <td>901.0</td>\n",
       "      <td>brake pad</td>\n",
       "      <td>501.0</td>\n",
       "      <td>1996-08-12</td>\n",
       "    </tr>\n",
       "    <tr>\n",
       "      <th>1</th>\n",
       "      <td>902.0</td>\n",
       "      <td>axle</td>\n",
       "      <td>502.0</td>\n",
       "      <td>1997-03-03</td>\n",
       "    </tr>\n",
       "    <tr>\n",
       "      <th>2</th>\n",
       "      <td>903.0</td>\n",
       "      <td>tie rod</td>\n",
       "      <td>503.0</td>\n",
       "      <td>1997-06-13</td>\n",
       "    </tr>\n",
       "    <tr>\n",
       "      <th>3</th>\n",
       "      <td>904.0</td>\n",
       "      <td>differential</td>\n",
       "      <td>504.0</td>\n",
       "      <td>1997-01-14</td>\n",
       "    </tr>\n",
       "    <tr>\n",
       "      <th>4</th>\n",
       "      <td>905.0</td>\n",
       "      <td>rear suspension</td>\n",
       "      <td>505.0</td>\n",
       "      <td>1996-08-19</td>\n",
       "    </tr>\n",
       "  </tbody>\n",
       "</table>\n",
       "</div>"
      ],
      "text/plain": [
       "   Part_ID        Part_Name  Manufacturer_ID  Manf_Date\n",
       "0    901.0        brake pad            501.0 1996-08-12\n",
       "1    902.0            axle             502.0 1997-03-03\n",
       "2    903.0          tie rod            503.0 1997-06-13\n",
       "3    904.0     differential            504.0 1997-01-14\n",
       "4    905.0  rear suspension            505.0 1996-08-19"
      ]
     },
     "execution_count": 11,
     "metadata": {},
     "output_type": "execute_result"
    }
   ],
   "source": [
    "parts.head()"
   ]
  },
  {
   "cell_type": "code",
   "execution_count": 12,
   "id": "ac881ad0",
   "metadata": {},
   "outputs": [
    {
     "data": {
      "text/html": [
       "<div>\n",
       "<style scoped>\n",
       "    .dataframe tbody tr th:only-of-type {\n",
       "        vertical-align: middle;\n",
       "    }\n",
       "\n",
       "    .dataframe tbody tr th {\n",
       "        vertical-align: top;\n",
       "    }\n",
       "\n",
       "    .dataframe thead th {\n",
       "        text-align: right;\n",
       "    }\n",
       "</style>\n",
       "<table border=\"1\" class=\"dataframe\">\n",
       "  <thead>\n",
       "    <tr style=\"text-align: right;\">\n",
       "      <th></th>\n",
       "      <th>transaction_id</th>\n",
       "      <th>claim_id</th>\n",
       "      <th>transaction_date</th>\n",
       "      <th>transaction_amount</th>\n",
       "    </tr>\n",
       "  </thead>\n",
       "  <tbody>\n",
       "    <tr>\n",
       "      <th>0</th>\n",
       "      <td>101.0</td>\n",
       "      <td>1.0</td>\n",
       "      <td>2020-04-01</td>\n",
       "      <td>36000.0</td>\n",
       "    </tr>\n",
       "    <tr>\n",
       "      <th>1</th>\n",
       "      <td>102.0</td>\n",
       "      <td>2.0</td>\n",
       "      <td>2020-04-01</td>\n",
       "      <td>42000.0</td>\n",
       "    </tr>\n",
       "    <tr>\n",
       "      <th>2</th>\n",
       "      <td>103.0</td>\n",
       "      <td>3.0</td>\n",
       "      <td>2020-04-01</td>\n",
       "      <td>45000.0</td>\n",
       "    </tr>\n",
       "    <tr>\n",
       "      <th>3</th>\n",
       "      <td>104.0</td>\n",
       "      <td>4.0</td>\n",
       "      <td>2020-04-01</td>\n",
       "      <td>56000.0</td>\n",
       "    </tr>\n",
       "    <tr>\n",
       "      <th>4</th>\n",
       "      <td>105.0</td>\n",
       "      <td>5.0</td>\n",
       "      <td>2020-04-01</td>\n",
       "      <td>39000.0</td>\n",
       "    </tr>\n",
       "  </tbody>\n",
       "</table>\n",
       "</div>"
      ],
      "text/plain": [
       "   transaction_id  claim_id transaction_date  transaction_amount\n",
       "0           101.0       1.0       2020-04-01             36000.0\n",
       "1           102.0       2.0       2020-04-01             42000.0\n",
       "2           103.0       3.0       2020-04-01             45000.0\n",
       "3           104.0       4.0       2020-04-01             56000.0\n",
       "4           105.0       5.0       2020-04-01             39000.0"
      ]
     },
     "execution_count": 12,
     "metadata": {},
     "output_type": "execute_result"
    }
   ],
   "source": [
    "transactions.head()"
   ]
  },
  {
   "cell_type": "code",
   "execution_count": 13,
   "id": "a3f7e03c",
   "metadata": {},
   "outputs": [
    {
     "data": {
      "text/html": [
       "<div>\n",
       "<style scoped>\n",
       "    .dataframe tbody tr th:only-of-type {\n",
       "        vertical-align: middle;\n",
       "    }\n",
       "\n",
       "    .dataframe tbody tr th {\n",
       "        vertical-align: top;\n",
       "    }\n",
       "\n",
       "    .dataframe thead th {\n",
       "        text-align: right;\n",
       "    }\n",
       "</style>\n",
       "<table border=\"1\" class=\"dataframe\">\n",
       "  <thead>\n",
       "    <tr style=\"text-align: right;\">\n",
       "      <th></th>\n",
       "      <th>Vendor_ID</th>\n",
       "      <th>Name</th>\n",
       "      <th>Country</th>\n",
       "      <th>State</th>\n",
       "      <th>City</th>\n",
       "      <th>ZIpCode</th>\n",
       "    </tr>\n",
       "  </thead>\n",
       "  <tbody>\n",
       "    <tr>\n",
       "      <th>0</th>\n",
       "      <td>501.0</td>\n",
       "      <td>Advik</td>\n",
       "      <td>ind</td>\n",
       "      <td>goa</td>\n",
       "      <td>panaji</td>\n",
       "      <td>400001.0</td>\n",
       "    </tr>\n",
       "    <tr>\n",
       "      <th>1</th>\n",
       "      <td>502.0</td>\n",
       "      <td>Rudra</td>\n",
       "      <td>ind</td>\n",
       "      <td>delhi</td>\n",
       "      <td>noida</td>\n",
       "      <td>400002.0</td>\n",
       "    </tr>\n",
       "    <tr>\n",
       "      <th>2</th>\n",
       "      <td>503.0</td>\n",
       "      <td>Aayansh</td>\n",
       "      <td>ind</td>\n",
       "      <td>karnataka</td>\n",
       "      <td>banglore</td>\n",
       "      <td>400003.0</td>\n",
       "    </tr>\n",
       "    <tr>\n",
       "      <th>3</th>\n",
       "      <td>504.0</td>\n",
       "      <td>Adinew</td>\n",
       "      <td>ind</td>\n",
       "      <td>gujrat</td>\n",
       "      <td>ahemadabad</td>\n",
       "      <td>400004.0</td>\n",
       "    </tr>\n",
       "    <tr>\n",
       "      <th>4</th>\n",
       "      <td>505.0</td>\n",
       "      <td>Dhruv</td>\n",
       "      <td>ind</td>\n",
       "      <td>orrisa</td>\n",
       "      <td>cuttack</td>\n",
       "      <td>400005.0</td>\n",
       "    </tr>\n",
       "  </tbody>\n",
       "</table>\n",
       "</div>"
      ],
      "text/plain": [
       "   Vendor_ID     Name Country      State        City   ZIpCode\n",
       "0      501.0    Advik     ind        goa      panaji  400001.0\n",
       "1      502.0    Rudra     ind      delhi       noida  400002.0\n",
       "2      503.0  Aayansh     ind  karnataka    banglore  400003.0\n",
       "3      504.0   Adinew     ind     gujrat  ahemadabad  400004.0\n",
       "4      505.0    Dhruv     ind     orrisa     cuttack  400005.0"
      ]
     },
     "execution_count": 13,
     "metadata": {},
     "output_type": "execute_result"
    }
   ],
   "source": [
    "vendors.head()"
   ]
  },
  {
   "cell_type": "markdown",
   "id": "4a8d4bc3",
   "metadata": {},
   "source": [
    "### usecase-1 Monthly report of top ten Dealers who have claimed with high count"
   ]
  },
  {
   "cell_type": "code",
   "execution_count": 15,
   "id": "49f5aa15",
   "metadata": {},
   "outputs": [
    {
     "data": {
      "text/plain": [
       "5.0       971\n",
       "3.0       922\n",
       "2.0       922\n",
       "1.0       922\n",
       "6.0       394\n",
       "4.0       218\n",
       "1248.0    176\n",
       "1256.0    176\n",
       "1255.0    176\n",
       "1254.0    176\n",
       "Name: Dealer_ID, dtype: int64"
      ]
     },
     "execution_count": 15,
     "metadata": {},
     "output_type": "execute_result"
    }
   ],
   "source": [
    "claims['Dealer_ID'].value_counts().head(10)"
   ]
  },
  {
   "cell_type": "markdown",
   "id": "7c666b95",
   "metadata": {},
   "source": [
    "###  usecase-2  Monthly report of top ten parts  which have high failed count\n"
   ]
  },
  {
   "cell_type": "code",
   "execution_count": 16,
   "id": "577aafaa",
   "metadata": {},
   "outputs": [
    {
     "data": {
      "text/plain": [
       "906.0    4019\n",
       "901.0    3349\n",
       "905.0    3349\n",
       "907.0    3348\n",
       "902.0    2010\n",
       "903.0    2010\n",
       "904.0    2010\n",
       "Name: Part_ID, dtype: int64"
      ]
     },
     "execution_count": 16,
     "metadata": {},
     "output_type": "execute_result"
    }
   ],
   "source": [
    "claims['Part_ID'].value_counts().head(10)"
   ]
  },
  {
   "cell_type": "markdown",
   "id": "a2b19dcc",
   "metadata": {},
   "source": [
    "### usecase-3 dsample for  replaced or repaired"
   ]
  },
  {
   "cell_type": "code",
   "execution_count": 18,
   "id": "45f65fe7",
   "metadata": {},
   "outputs": [
    {
     "data": {
      "text/plain": [
       "rplc    14736\n",
       "rpr      5359\n",
       "Name: Repair_or_Replace, dtype: int64"
      ]
     },
     "execution_count": 18,
     "metadata": {},
     "output_type": "execute_result"
    }
   ],
   "source": [
    "claims['Repair_or_Replace'].value_counts().head(10)"
   ]
  },
  {
   "cell_type": "markdown",
   "id": "e233f64e",
   "metadata": {},
   "source": [
    "### usecase-4 final solution - determine whether the defective part is to be replaced or repaired"
   ]
  },
  {
   "cell_type": "code",
   "execution_count": 19,
   "id": "079c89ac",
   "metadata": {},
   "outputs": [
    {
     "data": {
      "text/plain": [
       "Repair_or_Replace  Part_ID\n",
       "rplc               906.0      3349\n",
       "                   907.0      3348\n",
       "                   904.0      2010\n",
       "                   905.0      2009\n",
       "rpr                901.0      2009\n",
       "rplc               901.0      1340\n",
       "                   902.0      1340\n",
       "                   903.0      1340\n",
       "rpr                905.0      1340\n",
       "                   902.0       670\n",
       "dtype: int64"
      ]
     },
     "execution_count": 19,
     "metadata": {},
     "output_type": "execute_result"
    }
   ],
   "source": [
    "claims[['Repair_or_Replace','Part_ID']].value_counts().head(10)"
   ]
  },
  {
   "cell_type": "code",
   "execution_count": 20,
   "id": "771c740f",
   "metadata": {},
   "outputs": [
    {
     "data": {
      "text/html": [
       "<div>\n",
       "<style scoped>\n",
       "    .dataframe tbody tr th:only-of-type {\n",
       "        vertical-align: middle;\n",
       "    }\n",
       "\n",
       "    .dataframe tbody tr th {\n",
       "        vertical-align: top;\n",
       "    }\n",
       "\n",
       "    .dataframe thead th {\n",
       "        text-align: right;\n",
       "    }\n",
       "</style>\n",
       "<table border=\"1\" class=\"dataframe\">\n",
       "  <thead>\n",
       "    <tr style=\"text-align: right;\">\n",
       "      <th></th>\n",
       "      <th>claim_id</th>\n",
       "      <th>claim_date</th>\n",
       "      <th>claim_amount</th>\n",
       "      <th>Dealer_ID</th>\n",
       "      <th>Cust_ID</th>\n",
       "      <th>Part_ID</th>\n",
       "      <th>Repair_or_Replace</th>\n",
       "    </tr>\n",
       "  </thead>\n",
       "  <tbody>\n",
       "    <tr>\n",
       "      <th>0</th>\n",
       "      <td>1.0</td>\n",
       "      <td>2020-04-01</td>\n",
       "      <td>36000.0</td>\n",
       "      <td>5.0</td>\n",
       "      <td>104.0</td>\n",
       "      <td>901.0</td>\n",
       "      <td>rpr</td>\n",
       "    </tr>\n",
       "    <tr>\n",
       "      <th>1</th>\n",
       "      <td>2.0</td>\n",
       "      <td>2020-04-01</td>\n",
       "      <td>42000.0</td>\n",
       "      <td>6.0</td>\n",
       "      <td>106.0</td>\n",
       "      <td>902.0</td>\n",
       "      <td>rplc</td>\n",
       "    </tr>\n",
       "    <tr>\n",
       "      <th>2</th>\n",
       "      <td>3.0</td>\n",
       "      <td>2020-04-01</td>\n",
       "      <td>45000.0</td>\n",
       "      <td>4.0</td>\n",
       "      <td>103.0</td>\n",
       "      <td>903.0</td>\n",
       "      <td>rpr</td>\n",
       "    </tr>\n",
       "    <tr>\n",
       "      <th>3</th>\n",
       "      <td>4.0</td>\n",
       "      <td>2020-04-01</td>\n",
       "      <td>56000.0</td>\n",
       "      <td>3.0</td>\n",
       "      <td>102.0</td>\n",
       "      <td>904.0</td>\n",
       "      <td>rplc</td>\n",
       "    </tr>\n",
       "    <tr>\n",
       "      <th>4</th>\n",
       "      <td>5.0</td>\n",
       "      <td>2020-04-01</td>\n",
       "      <td>39000.0</td>\n",
       "      <td>2.0</td>\n",
       "      <td>105.0</td>\n",
       "      <td>905.0</td>\n",
       "      <td>rpr</td>\n",
       "    </tr>\n",
       "  </tbody>\n",
       "</table>\n",
       "</div>"
      ],
      "text/plain": [
       "   claim_id claim_date  claim_amount  Dealer_ID  Cust_ID  Part_ID  \\\n",
       "0       1.0 2020-04-01       36000.0        5.0    104.0    901.0   \n",
       "1       2.0 2020-04-01       42000.0        6.0    106.0    902.0   \n",
       "2       3.0 2020-04-01       45000.0        4.0    103.0    903.0   \n",
       "3       4.0 2020-04-01       56000.0        3.0    102.0    904.0   \n",
       "4       5.0 2020-04-01       39000.0        2.0    105.0    905.0   \n",
       "\n",
       "  Repair_or_Replace  \n",
       "0               rpr  \n",
       "1              rplc  \n",
       "2               rpr  \n",
       "3              rplc  \n",
       "4               rpr  "
      ]
     },
     "execution_count": 20,
     "metadata": {},
     "output_type": "execute_result"
    }
   ],
   "source": [
    "claims.head().head()"
   ]
  },
  {
   "cell_type": "code",
   "execution_count": 21,
   "id": "68d5ff5f",
   "metadata": {},
   "outputs": [],
   "source": [
    "rep_or_repl = pd.get_dummies(claims['Repair_or_Replace'],drop_first=True)"
   ]
  },
  {
   "cell_type": "code",
   "execution_count": 22,
   "id": "f6d34069",
   "metadata": {},
   "outputs": [
    {
     "data": {
      "text/html": [
       "<div>\n",
       "<style scoped>\n",
       "    .dataframe tbody tr th:only-of-type {\n",
       "        vertical-align: middle;\n",
       "    }\n",
       "\n",
       "    .dataframe tbody tr th {\n",
       "        vertical-align: top;\n",
       "    }\n",
       "\n",
       "    .dataframe thead th {\n",
       "        text-align: right;\n",
       "    }\n",
       "</style>\n",
       "<table border=\"1\" class=\"dataframe\">\n",
       "  <thead>\n",
       "    <tr style=\"text-align: right;\">\n",
       "      <th></th>\n",
       "      <th>rpr</th>\n",
       "    </tr>\n",
       "  </thead>\n",
       "  <tbody>\n",
       "    <tr>\n",
       "      <th>0</th>\n",
       "      <td>1</td>\n",
       "    </tr>\n",
       "    <tr>\n",
       "      <th>1</th>\n",
       "      <td>0</td>\n",
       "    </tr>\n",
       "    <tr>\n",
       "      <th>2</th>\n",
       "      <td>1</td>\n",
       "    </tr>\n",
       "    <tr>\n",
       "      <th>3</th>\n",
       "      <td>0</td>\n",
       "    </tr>\n",
       "    <tr>\n",
       "      <th>4</th>\n",
       "      <td>1</td>\n",
       "    </tr>\n",
       "  </tbody>\n",
       "</table>\n",
       "</div>"
      ],
      "text/plain": [
       "   rpr\n",
       "0    1\n",
       "1    0\n",
       "2    1\n",
       "3    0\n",
       "4    1"
      ]
     },
     "execution_count": 22,
     "metadata": {},
     "output_type": "execute_result"
    }
   ],
   "source": [
    "rep_or_repl.head()"
   ]
  },
  {
   "cell_type": "code",
   "execution_count": 23,
   "id": "156eb354",
   "metadata": {},
   "outputs": [],
   "source": [
    "claims.drop(['Repair_or_Replace'],axis=1,inplace=True)"
   ]
  },
  {
   "cell_type": "code",
   "execution_count": 24,
   "id": "b2400697",
   "metadata": {},
   "outputs": [
    {
     "data": {
      "text/html": [
       "<div>\n",
       "<style scoped>\n",
       "    .dataframe tbody tr th:only-of-type {\n",
       "        vertical-align: middle;\n",
       "    }\n",
       "\n",
       "    .dataframe tbody tr th {\n",
       "        vertical-align: top;\n",
       "    }\n",
       "\n",
       "    .dataframe thead th {\n",
       "        text-align: right;\n",
       "    }\n",
       "</style>\n",
       "<table border=\"1\" class=\"dataframe\">\n",
       "  <thead>\n",
       "    <tr style=\"text-align: right;\">\n",
       "      <th></th>\n",
       "      <th>claim_id</th>\n",
       "      <th>claim_date</th>\n",
       "      <th>claim_amount</th>\n",
       "      <th>Dealer_ID</th>\n",
       "      <th>Cust_ID</th>\n",
       "      <th>Part_ID</th>\n",
       "    </tr>\n",
       "  </thead>\n",
       "  <tbody>\n",
       "    <tr>\n",
       "      <th>0</th>\n",
       "      <td>1.0</td>\n",
       "      <td>2020-04-01</td>\n",
       "      <td>36000.0</td>\n",
       "      <td>5.0</td>\n",
       "      <td>104.0</td>\n",
       "      <td>901.0</td>\n",
       "    </tr>\n",
       "    <tr>\n",
       "      <th>1</th>\n",
       "      <td>2.0</td>\n",
       "      <td>2020-04-01</td>\n",
       "      <td>42000.0</td>\n",
       "      <td>6.0</td>\n",
       "      <td>106.0</td>\n",
       "      <td>902.0</td>\n",
       "    </tr>\n",
       "    <tr>\n",
       "      <th>2</th>\n",
       "      <td>3.0</td>\n",
       "      <td>2020-04-01</td>\n",
       "      <td>45000.0</td>\n",
       "      <td>4.0</td>\n",
       "      <td>103.0</td>\n",
       "      <td>903.0</td>\n",
       "    </tr>\n",
       "    <tr>\n",
       "      <th>3</th>\n",
       "      <td>4.0</td>\n",
       "      <td>2020-04-01</td>\n",
       "      <td>56000.0</td>\n",
       "      <td>3.0</td>\n",
       "      <td>102.0</td>\n",
       "      <td>904.0</td>\n",
       "    </tr>\n",
       "    <tr>\n",
       "      <th>4</th>\n",
       "      <td>5.0</td>\n",
       "      <td>2020-04-01</td>\n",
       "      <td>39000.0</td>\n",
       "      <td>2.0</td>\n",
       "      <td>105.0</td>\n",
       "      <td>905.0</td>\n",
       "    </tr>\n",
       "  </tbody>\n",
       "</table>\n",
       "</div>"
      ],
      "text/plain": [
       "   claim_id claim_date  claim_amount  Dealer_ID  Cust_ID  Part_ID\n",
       "0       1.0 2020-04-01       36000.0        5.0    104.0    901.0\n",
       "1       2.0 2020-04-01       42000.0        6.0    106.0    902.0\n",
       "2       3.0 2020-04-01       45000.0        4.0    103.0    903.0\n",
       "3       4.0 2020-04-01       56000.0        3.0    102.0    904.0\n",
       "4       5.0 2020-04-01       39000.0        2.0    105.0    905.0"
      ]
     },
     "execution_count": 24,
     "metadata": {},
     "output_type": "execute_result"
    }
   ],
   "source": [
    "claims.head()"
   ]
  },
  {
   "cell_type": "code",
   "execution_count": 25,
   "id": "1093bd69",
   "metadata": {},
   "outputs": [
    {
     "data": {
      "text/html": [
       "<div>\n",
       "<style scoped>\n",
       "    .dataframe tbody tr th:only-of-type {\n",
       "        vertical-align: middle;\n",
       "    }\n",
       "\n",
       "    .dataframe tbody tr th {\n",
       "        vertical-align: top;\n",
       "    }\n",
       "\n",
       "    .dataframe thead th {\n",
       "        text-align: right;\n",
       "    }\n",
       "</style>\n",
       "<table border=\"1\" class=\"dataframe\">\n",
       "  <thead>\n",
       "    <tr style=\"text-align: right;\">\n",
       "      <th></th>\n",
       "      <th>claim_id</th>\n",
       "      <th>claim_amount</th>\n",
       "      <th>Dealer_ID</th>\n",
       "      <th>Cust_ID</th>\n",
       "      <th>Part_ID</th>\n",
       "    </tr>\n",
       "  </thead>\n",
       "  <tbody>\n",
       "    <tr>\n",
       "      <th>claim_id</th>\n",
       "      <td>1.000000</td>\n",
       "      <td>0.000214</td>\n",
       "      <td>0.002988</td>\n",
       "      <td>-0.000791</td>\n",
       "      <td>0.000189</td>\n",
       "    </tr>\n",
       "    <tr>\n",
       "      <th>claim_amount</th>\n",
       "      <td>0.000214</td>\n",
       "      <td>1.000000</td>\n",
       "      <td>-0.000154</td>\n",
       "      <td>-0.001481</td>\n",
       "      <td>-0.285543</td>\n",
       "    </tr>\n",
       "    <tr>\n",
       "      <th>Dealer_ID</th>\n",
       "      <td>0.002988</td>\n",
       "      <td>-0.000154</td>\n",
       "      <td>1.000000</td>\n",
       "      <td>0.007710</td>\n",
       "      <td>-0.002561</td>\n",
       "    </tr>\n",
       "    <tr>\n",
       "      <th>Cust_ID</th>\n",
       "      <td>-0.000791</td>\n",
       "      <td>-0.001481</td>\n",
       "      <td>0.007710</td>\n",
       "      <td>1.000000</td>\n",
       "      <td>0.002312</td>\n",
       "    </tr>\n",
       "    <tr>\n",
       "      <th>Part_ID</th>\n",
       "      <td>0.000189</td>\n",
       "      <td>-0.285543</td>\n",
       "      <td>-0.002561</td>\n",
       "      <td>0.002312</td>\n",
       "      <td>1.000000</td>\n",
       "    </tr>\n",
       "  </tbody>\n",
       "</table>\n",
       "</div>"
      ],
      "text/plain": [
       "              claim_id  claim_amount  Dealer_ID   Cust_ID   Part_ID\n",
       "claim_id      1.000000      0.000214   0.002988 -0.000791  0.000189\n",
       "claim_amount  0.000214      1.000000  -0.000154 -0.001481 -0.285543\n",
       "Dealer_ID     0.002988     -0.000154   1.000000  0.007710 -0.002561\n",
       "Cust_ID      -0.000791     -0.001481   0.007710  1.000000  0.002312\n",
       "Part_ID       0.000189     -0.285543  -0.002561  0.002312  1.000000"
      ]
     },
     "execution_count": 25,
     "metadata": {},
     "output_type": "execute_result"
    }
   ],
   "source": [
    "claims.corr()"
   ]
  },
  {
   "cell_type": "code",
   "execution_count": 27,
   "id": "ab596066",
   "metadata": {},
   "outputs": [
    {
     "data": {
      "text/plain": [
       "Index(['claim_id', 'claim_date', 'claim_amount', 'Dealer_ID', 'Cust_ID',\n",
       "       'Part_ID'],\n",
       "      dtype='object')"
      ]
     },
     "execution_count": 27,
     "metadata": {},
     "output_type": "execute_result"
    }
   ],
   "source": [
    "claims.columns"
   ]
  },
  {
   "cell_type": "code",
   "execution_count": 30,
   "id": "b057da36",
   "metadata": {},
   "outputs": [],
   "source": [
    "rep_or_repl.rename(columns = {'rpr':'Target_column'}, inplace = True)"
   ]
  },
  {
   "cell_type": "code",
   "execution_count": 31,
   "id": "dfbf9f86",
   "metadata": {},
   "outputs": [
    {
     "data": {
      "text/html": [
       "<div>\n",
       "<style scoped>\n",
       "    .dataframe tbody tr th:only-of-type {\n",
       "        vertical-align: middle;\n",
       "    }\n",
       "\n",
       "    .dataframe tbody tr th {\n",
       "        vertical-align: top;\n",
       "    }\n",
       "\n",
       "    .dataframe thead th {\n",
       "        text-align: right;\n",
       "    }\n",
       "</style>\n",
       "<table border=\"1\" class=\"dataframe\">\n",
       "  <thead>\n",
       "    <tr style=\"text-align: right;\">\n",
       "      <th></th>\n",
       "      <th>Target_column</th>\n",
       "    </tr>\n",
       "  </thead>\n",
       "  <tbody>\n",
       "    <tr>\n",
       "      <th>0</th>\n",
       "      <td>1</td>\n",
       "    </tr>\n",
       "    <tr>\n",
       "      <th>1</th>\n",
       "      <td>0</td>\n",
       "    </tr>\n",
       "    <tr>\n",
       "      <th>2</th>\n",
       "      <td>1</td>\n",
       "    </tr>\n",
       "    <tr>\n",
       "      <th>3</th>\n",
       "      <td>0</td>\n",
       "    </tr>\n",
       "    <tr>\n",
       "      <th>4</th>\n",
       "      <td>1</td>\n",
       "    </tr>\n",
       "  </tbody>\n",
       "</table>\n",
       "</div>"
      ],
      "text/plain": [
       "   Target_column\n",
       "0              1\n",
       "1              0\n",
       "2              1\n",
       "3              0\n",
       "4              1"
      ]
     },
     "execution_count": 31,
     "metadata": {},
     "output_type": "execute_result"
    }
   ],
   "source": [
    "rep_or_repl.head()"
   ]
  },
  {
   "cell_type": "code",
   "execution_count": 38,
   "id": "c7b14128",
   "metadata": {},
   "outputs": [],
   "source": [
    "df_claims=pd.concat([claims,rep_or_repl], axis=1)"
   ]
  },
  {
   "cell_type": "code",
   "execution_count": 39,
   "id": "97c48c31",
   "metadata": {},
   "outputs": [
    {
     "data": {
      "text/html": [
       "<div>\n",
       "<style scoped>\n",
       "    .dataframe tbody tr th:only-of-type {\n",
       "        vertical-align: middle;\n",
       "    }\n",
       "\n",
       "    .dataframe tbody tr th {\n",
       "        vertical-align: top;\n",
       "    }\n",
       "\n",
       "    .dataframe thead th {\n",
       "        text-align: right;\n",
       "    }\n",
       "</style>\n",
       "<table border=\"1\" class=\"dataframe\">\n",
       "  <thead>\n",
       "    <tr style=\"text-align: right;\">\n",
       "      <th></th>\n",
       "      <th>claim_id</th>\n",
       "      <th>claim_date</th>\n",
       "      <th>claim_amount</th>\n",
       "      <th>Dealer_ID</th>\n",
       "      <th>Cust_ID</th>\n",
       "      <th>Part_ID</th>\n",
       "      <th>Target_column</th>\n",
       "    </tr>\n",
       "  </thead>\n",
       "  <tbody>\n",
       "    <tr>\n",
       "      <th>0</th>\n",
       "      <td>1.0</td>\n",
       "      <td>2020-04-01</td>\n",
       "      <td>36000.0</td>\n",
       "      <td>5.0</td>\n",
       "      <td>104.0</td>\n",
       "      <td>901.0</td>\n",
       "      <td>1</td>\n",
       "    </tr>\n",
       "    <tr>\n",
       "      <th>1</th>\n",
       "      <td>2.0</td>\n",
       "      <td>2020-04-01</td>\n",
       "      <td>42000.0</td>\n",
       "      <td>6.0</td>\n",
       "      <td>106.0</td>\n",
       "      <td>902.0</td>\n",
       "      <td>0</td>\n",
       "    </tr>\n",
       "    <tr>\n",
       "      <th>2</th>\n",
       "      <td>3.0</td>\n",
       "      <td>2020-04-01</td>\n",
       "      <td>45000.0</td>\n",
       "      <td>4.0</td>\n",
       "      <td>103.0</td>\n",
       "      <td>903.0</td>\n",
       "      <td>1</td>\n",
       "    </tr>\n",
       "    <tr>\n",
       "      <th>3</th>\n",
       "      <td>4.0</td>\n",
       "      <td>2020-04-01</td>\n",
       "      <td>56000.0</td>\n",
       "      <td>3.0</td>\n",
       "      <td>102.0</td>\n",
       "      <td>904.0</td>\n",
       "      <td>0</td>\n",
       "    </tr>\n",
       "    <tr>\n",
       "      <th>4</th>\n",
       "      <td>5.0</td>\n",
       "      <td>2020-04-01</td>\n",
       "      <td>39000.0</td>\n",
       "      <td>2.0</td>\n",
       "      <td>105.0</td>\n",
       "      <td>905.0</td>\n",
       "      <td>1</td>\n",
       "    </tr>\n",
       "  </tbody>\n",
       "</table>\n",
       "</div>"
      ],
      "text/plain": [
       "   claim_id claim_date  claim_amount  Dealer_ID  Cust_ID  Part_ID  \\\n",
       "0       1.0 2020-04-01       36000.0        5.0    104.0    901.0   \n",
       "1       2.0 2020-04-01       42000.0        6.0    106.0    902.0   \n",
       "2       3.0 2020-04-01       45000.0        4.0    103.0    903.0   \n",
       "3       4.0 2020-04-01       56000.0        3.0    102.0    904.0   \n",
       "4       5.0 2020-04-01       39000.0        2.0    105.0    905.0   \n",
       "\n",
       "   Target_column  \n",
       "0              1  \n",
       "1              0  \n",
       "2              1  \n",
       "3              0  \n",
       "4              1  "
      ]
     },
     "execution_count": 39,
     "metadata": {},
     "output_type": "execute_result"
    }
   ],
   "source": [
    "df_claims.head()"
   ]
  },
  {
   "cell_type": "code",
   "execution_count": 40,
   "id": "2c34f0a2",
   "metadata": {},
   "outputs": [
    {
     "data": {
      "text/html": [
       "<div>\n",
       "<style scoped>\n",
       "    .dataframe tbody tr th:only-of-type {\n",
       "        vertical-align: middle;\n",
       "    }\n",
       "\n",
       "    .dataframe tbody tr th {\n",
       "        vertical-align: top;\n",
       "    }\n",
       "\n",
       "    .dataframe thead th {\n",
       "        text-align: right;\n",
       "    }\n",
       "</style>\n",
       "<table border=\"1\" class=\"dataframe\">\n",
       "  <thead>\n",
       "    <tr style=\"text-align: right;\">\n",
       "      <th></th>\n",
       "      <th>claim_id</th>\n",
       "      <th>claim_amount</th>\n",
       "      <th>Dealer_ID</th>\n",
       "      <th>Cust_ID</th>\n",
       "      <th>Part_ID</th>\n",
       "      <th>Target_column</th>\n",
       "    </tr>\n",
       "  </thead>\n",
       "  <tbody>\n",
       "    <tr>\n",
       "      <th>claim_id</th>\n",
       "      <td>1.000000</td>\n",
       "      <td>0.000214</td>\n",
       "      <td>0.002988</td>\n",
       "      <td>-0.000791</td>\n",
       "      <td>0.000189</td>\n",
       "      <td>-0.000169</td>\n",
       "    </tr>\n",
       "    <tr>\n",
       "      <th>claim_amount</th>\n",
       "      <td>0.000214</td>\n",
       "      <td>1.000000</td>\n",
       "      <td>-0.000154</td>\n",
       "      <td>-0.001481</td>\n",
       "      <td>-0.285543</td>\n",
       "      <td>-0.264751</td>\n",
       "    </tr>\n",
       "    <tr>\n",
       "      <th>Dealer_ID</th>\n",
       "      <td>0.002988</td>\n",
       "      <td>-0.000154</td>\n",
       "      <td>1.000000</td>\n",
       "      <td>0.007710</td>\n",
       "      <td>-0.002561</td>\n",
       "      <td>0.000630</td>\n",
       "    </tr>\n",
       "    <tr>\n",
       "      <th>Cust_ID</th>\n",
       "      <td>-0.000791</td>\n",
       "      <td>-0.001481</td>\n",
       "      <td>0.007710</td>\n",
       "      <td>1.000000</td>\n",
       "      <td>0.002312</td>\n",
       "      <td>-0.001301</td>\n",
       "    </tr>\n",
       "    <tr>\n",
       "      <th>Part_ID</th>\n",
       "      <td>0.000189</td>\n",
       "      <td>-0.285543</td>\n",
       "      <td>-0.002561</td>\n",
       "      <td>0.002312</td>\n",
       "      <td>1.000000</td>\n",
       "      <td>-0.364181</td>\n",
       "    </tr>\n",
       "    <tr>\n",
       "      <th>Target_column</th>\n",
       "      <td>-0.000169</td>\n",
       "      <td>-0.264751</td>\n",
       "      <td>0.000630</td>\n",
       "      <td>-0.001301</td>\n",
       "      <td>-0.364181</td>\n",
       "      <td>1.000000</td>\n",
       "    </tr>\n",
       "  </tbody>\n",
       "</table>\n",
       "</div>"
      ],
      "text/plain": [
       "               claim_id  claim_amount  Dealer_ID   Cust_ID   Part_ID  \\\n",
       "claim_id       1.000000      0.000214   0.002988 -0.000791  0.000189   \n",
       "claim_amount   0.000214      1.000000  -0.000154 -0.001481 -0.285543   \n",
       "Dealer_ID      0.002988     -0.000154   1.000000  0.007710 -0.002561   \n",
       "Cust_ID       -0.000791     -0.001481   0.007710  1.000000  0.002312   \n",
       "Part_ID        0.000189     -0.285543  -0.002561  0.002312  1.000000   \n",
       "Target_column -0.000169     -0.264751   0.000630 -0.001301 -0.364181   \n",
       "\n",
       "               Target_column  \n",
       "claim_id           -0.000169  \n",
       "claim_amount       -0.264751  \n",
       "Dealer_ID           0.000630  \n",
       "Cust_ID            -0.001301  \n",
       "Part_ID            -0.364181  \n",
       "Target_column       1.000000  "
      ]
     },
     "execution_count": 40,
     "metadata": {},
     "output_type": "execute_result"
    }
   ],
   "source": [
    "df_claims.corr()"
   ]
  },
  {
   "cell_type": "code",
   "execution_count": 41,
   "id": "809d111b",
   "metadata": {},
   "outputs": [],
   "source": [
    "df_claims.drop(['claim_id','Dealer_ID','Cust_ID'],axis=1,inplace=True)"
   ]
  },
  {
   "cell_type": "code",
   "execution_count": 42,
   "id": "df3f99da",
   "metadata": {},
   "outputs": [
    {
     "data": {
      "text/html": [
       "<div>\n",
       "<style scoped>\n",
       "    .dataframe tbody tr th:only-of-type {\n",
       "        vertical-align: middle;\n",
       "    }\n",
       "\n",
       "    .dataframe tbody tr th {\n",
       "        vertical-align: top;\n",
       "    }\n",
       "\n",
       "    .dataframe thead th {\n",
       "        text-align: right;\n",
       "    }\n",
       "</style>\n",
       "<table border=\"1\" class=\"dataframe\">\n",
       "  <thead>\n",
       "    <tr style=\"text-align: right;\">\n",
       "      <th></th>\n",
       "      <th>claim_date</th>\n",
       "      <th>claim_amount</th>\n",
       "      <th>Part_ID</th>\n",
       "      <th>Target_column</th>\n",
       "    </tr>\n",
       "  </thead>\n",
       "  <tbody>\n",
       "    <tr>\n",
       "      <th>0</th>\n",
       "      <td>2020-04-01</td>\n",
       "      <td>36000.0</td>\n",
       "      <td>901.0</td>\n",
       "      <td>1</td>\n",
       "    </tr>\n",
       "    <tr>\n",
       "      <th>1</th>\n",
       "      <td>2020-04-01</td>\n",
       "      <td>42000.0</td>\n",
       "      <td>902.0</td>\n",
       "      <td>0</td>\n",
       "    </tr>\n",
       "    <tr>\n",
       "      <th>2</th>\n",
       "      <td>2020-04-01</td>\n",
       "      <td>45000.0</td>\n",
       "      <td>903.0</td>\n",
       "      <td>1</td>\n",
       "    </tr>\n",
       "    <tr>\n",
       "      <th>3</th>\n",
       "      <td>2020-04-01</td>\n",
       "      <td>56000.0</td>\n",
       "      <td>904.0</td>\n",
       "      <td>0</td>\n",
       "    </tr>\n",
       "    <tr>\n",
       "      <th>4</th>\n",
       "      <td>2020-04-01</td>\n",
       "      <td>39000.0</td>\n",
       "      <td>905.0</td>\n",
       "      <td>1</td>\n",
       "    </tr>\n",
       "  </tbody>\n",
       "</table>\n",
       "</div>"
      ],
      "text/plain": [
       "  claim_date  claim_amount  Part_ID  Target_column\n",
       "0 2020-04-01       36000.0    901.0              1\n",
       "1 2020-04-01       42000.0    902.0              0\n",
       "2 2020-04-01       45000.0    903.0              1\n",
       "3 2020-04-01       56000.0    904.0              0\n",
       "4 2020-04-01       39000.0    905.0              1"
      ]
     },
     "execution_count": 42,
     "metadata": {},
     "output_type": "execute_result"
    }
   ],
   "source": [
    "df_claims.head()"
   ]
  },
  {
   "cell_type": "code",
   "execution_count": 43,
   "id": "af301d8f",
   "metadata": {},
   "outputs": [
    {
     "data": {
      "text/html": [
       "<div>\n",
       "<style scoped>\n",
       "    .dataframe tbody tr th:only-of-type {\n",
       "        vertical-align: middle;\n",
       "    }\n",
       "\n",
       "    .dataframe tbody tr th {\n",
       "        vertical-align: top;\n",
       "    }\n",
       "\n",
       "    .dataframe thead th {\n",
       "        text-align: right;\n",
       "    }\n",
       "</style>\n",
       "<table border=\"1\" class=\"dataframe\">\n",
       "  <thead>\n",
       "    <tr style=\"text-align: right;\">\n",
       "      <th></th>\n",
       "      <th>claim_amount</th>\n",
       "      <th>Part_ID</th>\n",
       "      <th>Target_column</th>\n",
       "    </tr>\n",
       "  </thead>\n",
       "  <tbody>\n",
       "    <tr>\n",
       "      <th>claim_amount</th>\n",
       "      <td>1.000000</td>\n",
       "      <td>-0.285543</td>\n",
       "      <td>-0.264751</td>\n",
       "    </tr>\n",
       "    <tr>\n",
       "      <th>Part_ID</th>\n",
       "      <td>-0.285543</td>\n",
       "      <td>1.000000</td>\n",
       "      <td>-0.364181</td>\n",
       "    </tr>\n",
       "    <tr>\n",
       "      <th>Target_column</th>\n",
       "      <td>-0.264751</td>\n",
       "      <td>-0.364181</td>\n",
       "      <td>1.000000</td>\n",
       "    </tr>\n",
       "  </tbody>\n",
       "</table>\n",
       "</div>"
      ],
      "text/plain": [
       "               claim_amount   Part_ID  Target_column\n",
       "claim_amount       1.000000 -0.285543      -0.264751\n",
       "Part_ID           -0.285543  1.000000      -0.364181\n",
       "Target_column     -0.264751 -0.364181       1.000000"
      ]
     },
     "execution_count": 43,
     "metadata": {},
     "output_type": "execute_result"
    }
   ],
   "source": [
    "df_claims.corr()"
   ]
  },
  {
   "cell_type": "code",
   "execution_count": 44,
   "id": "347256da",
   "metadata": {},
   "outputs": [],
   "source": [
    "df_claims.drop(['claim_date'],axis=1,inplace=True)"
   ]
  },
  {
   "cell_type": "code",
   "execution_count": 45,
   "id": "a48869ae",
   "metadata": {},
   "outputs": [
    {
     "data": {
      "text/html": [
       "<div>\n",
       "<style scoped>\n",
       "    .dataframe tbody tr th:only-of-type {\n",
       "        vertical-align: middle;\n",
       "    }\n",
       "\n",
       "    .dataframe tbody tr th {\n",
       "        vertical-align: top;\n",
       "    }\n",
       "\n",
       "    .dataframe thead th {\n",
       "        text-align: right;\n",
       "    }\n",
       "</style>\n",
       "<table border=\"1\" class=\"dataframe\">\n",
       "  <thead>\n",
       "    <tr style=\"text-align: right;\">\n",
       "      <th></th>\n",
       "      <th>claim_amount</th>\n",
       "      <th>Part_ID</th>\n",
       "      <th>Target_column</th>\n",
       "    </tr>\n",
       "  </thead>\n",
       "  <tbody>\n",
       "    <tr>\n",
       "      <th>0</th>\n",
       "      <td>36000.0</td>\n",
       "      <td>901.0</td>\n",
       "      <td>1</td>\n",
       "    </tr>\n",
       "    <tr>\n",
       "      <th>1</th>\n",
       "      <td>42000.0</td>\n",
       "      <td>902.0</td>\n",
       "      <td>0</td>\n",
       "    </tr>\n",
       "    <tr>\n",
       "      <th>2</th>\n",
       "      <td>45000.0</td>\n",
       "      <td>903.0</td>\n",
       "      <td>1</td>\n",
       "    </tr>\n",
       "    <tr>\n",
       "      <th>3</th>\n",
       "      <td>56000.0</td>\n",
       "      <td>904.0</td>\n",
       "      <td>0</td>\n",
       "    </tr>\n",
       "    <tr>\n",
       "      <th>4</th>\n",
       "      <td>39000.0</td>\n",
       "      <td>905.0</td>\n",
       "      <td>1</td>\n",
       "    </tr>\n",
       "  </tbody>\n",
       "</table>\n",
       "</div>"
      ],
      "text/plain": [
       "   claim_amount  Part_ID  Target_column\n",
       "0       36000.0    901.0              1\n",
       "1       42000.0    902.0              0\n",
       "2       45000.0    903.0              1\n",
       "3       56000.0    904.0              0\n",
       "4       39000.0    905.0              1"
      ]
     },
     "execution_count": 45,
     "metadata": {},
     "output_type": "execute_result"
    }
   ],
   "source": [
    "df_claims.head()"
   ]
  },
  {
   "cell_type": "code",
   "execution_count": 46,
   "id": "1148c4bf",
   "metadata": {},
   "outputs": [],
   "source": [
    "from sklearn.model_selection import train_test_split"
   ]
  },
  {
   "cell_type": "code",
   "execution_count": 47,
   "id": "871ee077",
   "metadata": {},
   "outputs": [],
   "source": [
    "x_train, x_test, y_train, y_test = train_test_split(df_claims.drop('Target_column',axis=1), \n",
    "                                                    df_claims['Target_column'], test_size=0.30, \n",
    "                                                    random_state=60)"
   ]
  },
  {
   "cell_type": "code",
   "execution_count": 48,
   "id": "a4f64eb3",
   "metadata": {},
   "outputs": [
    {
     "name": "stdout",
     "output_type": "stream",
     "text": [
      "100.0\n"
     ]
    }
   ],
   "source": [
    "from sklearn.tree import DecisionTreeClassifier\n",
    "classifier = DecisionTreeClassifier()\n",
    "classifier.fit(x_train, y_train)\n",
    "y_pred = classifier.predict(x_test)\n",
    "\n",
    "\n",
    "from sklearn.metrics import accuracy_score\n",
    "print(accuracy_score(y_test, y_pred)*100)"
   ]
  },
  {
   "cell_type": "code",
   "execution_count": 49,
   "id": "9aa0f765",
   "metadata": {},
   "outputs": [
    {
     "data": {
      "text/plain": [
       "LogisticRegression()"
      ]
     },
     "execution_count": 49,
     "metadata": {},
     "output_type": "execute_result"
    }
   ],
   "source": [
    "from sklearn.linear_model import LogisticRegression\n",
    "logmodel = LogisticRegression()\n",
    "logmodel.fit(x_train,y_train)"
   ]
  },
  {
   "cell_type": "code",
   "execution_count": 53,
   "id": "9cc24b0e",
   "metadata": {},
   "outputs": [],
   "source": [
    "y_pred = logmodel.predict(x_test)"
   ]
  },
  {
   "cell_type": "code",
   "execution_count": 54,
   "id": "92252800",
   "metadata": {},
   "outputs": [],
   "source": [
    "from sklearn.metrics import confusion_matrix,accuracy_score"
   ]
  },
  {
   "cell_type": "code",
   "execution_count": 55,
   "id": "83516672",
   "metadata": {},
   "outputs": [
    {
     "name": "stdout",
     "output_type": "stream",
     "text": [
      "[[4257  196]\n",
      " [1576    0]]\n"
     ]
    }
   ],
   "source": [
    "print(confusion_matrix(y_test,y_pred))"
   ]
  },
  {
   "cell_type": "code",
   "execution_count": 56,
   "id": "8a3ae468",
   "metadata": {},
   "outputs": [
    {
     "data": {
      "text/plain": [
       "70.60872449825841"
      ]
     },
     "execution_count": 56,
     "metadata": {},
     "output_type": "execute_result"
    }
   ],
   "source": [
    "accuracy_score(y_test,y_pred)*100"
   ]
  },
  {
   "cell_type": "code",
   "execution_count": null,
   "id": "2cd325b1",
   "metadata": {},
   "outputs": [],
   "source": []
  }
 ],
 "metadata": {
  "kernelspec": {
   "display_name": "Python 3 (ipykernel)",
   "language": "python",
   "name": "python3"
  },
  "language_info": {
   "codemirror_mode": {
    "name": "ipython",
    "version": 3
   },
   "file_extension": ".py",
   "mimetype": "text/x-python",
   "name": "python",
   "nbconvert_exporter": "python",
   "pygments_lexer": "ipython3",
   "version": "3.10.9"
  }
 },
 "nbformat": 4,
 "nbformat_minor": 5
}
